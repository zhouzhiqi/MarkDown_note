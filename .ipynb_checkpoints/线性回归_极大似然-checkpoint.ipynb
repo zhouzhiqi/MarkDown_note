{
 "cells": [
  {
   "cell_type": "markdown",
   "metadata": {
    "toc": true
   },
   "source": [
    "<h1>线性回归_极大似然<span class=\"tocSkip\"></span></h1>\n",
    "<div class=\"toc\"><ul class=\"toc-item\"><li><span><a href=\"#工具包\" data-toc-modified-id=\"工具包-1\"><span class=\"toc-item-num\">1&nbsp;&nbsp;</span>工具包</a></span></li><li><span><a href=\"#数据\" data-toc-modified-id=\"数据-2\"><span class=\"toc-item-num\">2&nbsp;&nbsp;</span>数据</a></span></li><li><span><a href=\"#函数$y^{(i)}$\" data-toc-modified-id=\"函数$y^{(i)}$-3\"><span class=\"toc-item-num\">3&nbsp;&nbsp;</span>函数$y^{(i)}$</a></span></li><li><span><a href=\"#损失函数\" data-toc-modified-id=\"损失函数-4\"><span class=\"toc-item-num\">4&nbsp;&nbsp;</span>损失函数</a></span></li><li><span><a href=\"#极大似然\" data-toc-modified-id=\"极大似然-5\"><span class=\"toc-item-num\">5&nbsp;&nbsp;</span>极大似然</a></span></li></ul></div>"
   ]
  },
  {
   "cell_type": "markdown",
   "metadata": {
    "ExecuteTime": {
     "end_time": "2018-03-31T05:40:58.680092Z",
     "start_time": "2018-03-31T05:40:58.674087Z"
    }
   },
   "source": [
    "# 工具包"
   ]
  },
  {
   "cell_type": "code",
   "execution_count": null,
   "metadata": {},
   "outputs": [],
   "source": [
    "import numpy as np\n",
    "import pandas as pd"
   ]
  },
  {
   "cell_type": "markdown",
   "metadata": {
    "ExecuteTime": {
     "end_time": "2018-03-31T05:41:07.776009Z",
     "start_time": "2018-03-31T05:41:07.773009Z"
    }
   },
   "source": [
    "# 数据"
   ]
  },
  {
   "cell_type": "markdown",
   "metadata": {},
   "source": [
    "给定训练数据$D=\\{\\mathbf{x}_i , y_i\\}_{i=1}^{m}$(**training set**),    \n",
    "每组$(\\mathbf{x}_i , y_i)$(**training example**)都是一组训练样例,在此例中训练总数据个数m=9   \n",
    "$\\mathbf{x}_i$(**features**),是n维向量,在此例中n=3,即有3个特征   \n",
    "$y_i\\in \\mathbb{R}$(**target**),是监督学习中的目标变量,\n",
    "* $y_i$是连续变量时为回归(**regression**),\n",
    "* $y_i$是离散变量时为分类(**classification**)"
   ]
  },
  {
   "cell_type": "markdown",
   "metadata": {
    "ExecuteTime": {
     "end_time": "2018-03-31T05:41:46.383061Z",
     "start_time": "2018-03-31T05:41:46.380059Z"
    }
   },
   "source": [
    "# 函数$y^{(i)}$"
   ]
  },
  {
   "cell_type": "markdown",
   "metadata": {},
   "source": [
    "定义误差项为$\\varepsilon$为预测值同真实值之间的误差   \n",
    "$$\n",
    "y^{(i)}=\\theta^T x^{(i)} + \\varepsilon^{(i)}\n",
    "$$   \n",
    "假设数据样本之间独立同分布(**IID**,(independently and identically distrib)\n",
    "$$\n",
    "\\varepsilon^{(i)} \\sim \\mathcal{N}(0,\\sigma^2)\\\\\n",
    "p(\\varepsilon^{(i)}) = \\frac{1}{\\sqrt{2\\pi}\\sigma}\n",
    "\\exp\\left( -\\frac{(\\varepsilon^{(i)})^2}{2\\sigma^2} \\right)\n",
    "$$"
   ]
  },
  {
   "cell_type": "markdown",
   "metadata": {},
   "source": [
    "那么:\n",
    "$$\n",
    "y^{(i)}=\\theta^T x^{(i)} + \\varepsilon^{(i)} \n",
    "\\sim \\mathcal{N}(\\theta^T x^{(i)},\\sigma^2)\\\\\n",
    "$$\n",
    "条件概率:\n",
    "$$p(y^{(i)}|x^{(i)};\\theta)=\\frac{1}{\\sqrt{2\\pi}\\sigma}\n",
    "\\exp\\left( -\\frac{(\\varepsilon^{(i)}-\\theta^Tx^{(i)})^2}{2\\sigma^2} \\right)$$"
   ]
  },
  {
   "cell_type": "markdown",
   "metadata": {
    "ExecuteTime": {
     "end_time": "2018-03-31T05:42:18.327595Z",
     "start_time": "2018-03-31T05:42:18.323591Z"
    }
   },
   "source": [
    "# 损失函数"
   ]
  },
  {
   "cell_type": "markdown",
   "metadata": {
    "ExecuteTime": {
     "end_time": "2018-03-31T06:12:26.642812Z",
     "start_time": "2018-03-31T06:12:26.631805Z"
    }
   },
   "source": [
    "实质是似然函数(**likelihood**)   \n",
    "在参数为$\\theta$的情况下, 数据$D=\\{\\mathbf{x}_i , y_i\\}_{i=1}^{N}$出现的概率\n",
    "$$\n",
    "\\begin{eqnarray}\n",
    "L(\\theta)& = & L(\\theta;X,\\vec{y})=p(\\vec{y}|X;\\theta)\\\\\n",
    "& = & \\prod_{i=1}^{m}p(y^{(i)}|x^{(i)};\\theta)\\\\\n",
    "& = & \\prod_{i=1}^{m}\\frac{1}{\\sqrt{2\\pi}\\sigma}\n",
    "\\exp\\left( -\\frac{(\\varepsilon^{(i)}-\\theta^Tx^{(i)})^2}{2\\sigma^2} \\right)\n",
    "\\end{eqnarray}\n",
    "$$"
   ]
  },
  {
   "cell_type": "markdown",
   "metadata": {
    "ExecuteTime": {
     "end_time": "2018-03-31T05:42:40.678521Z",
     "start_time": "2018-03-31T05:42:40.675520Z"
    }
   },
   "source": [
    "# 极大似然"
   ]
  },
  {
   "cell_type": "markdown",
   "metadata": {},
   "source": [
    "极大似然(**maximum likelihood**)   \n",
    "数据$D=\\{\\mathbf{x}_i , y_i\\}_{i=1}^{N}$以最大概率出现时,参数为$\\theta$   "
   ]
  },
  {
   "cell_type": "markdown",
   "metadata": {},
   "source": [
    "$$\n",
    "\\begin{eqnarray}\n",
    "\\ell(\\theta) & = &log L(\\theta)\\\\\n",
    " & = & log \\prod_{i=1}^{m}\\frac{1}{\\sqrt{2\\pi}\\sigma}\n",
    "\\exp\\left( -\\frac{(y^{(i)}-\\theta^Tx^{(i)})^2}{2\\sigma^2} \\right)\\\\\n",
    "& = & \\sum_{i=1}^{m} \\ log\\ \\frac{1}{\\sqrt{2\\pi}\\sigma}\n",
    "\\exp\\left( -\\frac{(y^{(i)}-\\theta^Tx^{(i)})^2}{2\\sigma^2} \\right)\\\\\n",
    "& = & -m\\ log\\frac{1}{\\sqrt{2\\pi}\\sigma}\n",
    "-\\frac{1}{2\\sigma^2}\\sum_{i=1}^{m}(y^{(i)}-\\theta^Tx^{(i)})^2\\\\\n",
    "& = & -\\frac{1}{2}m log 2\\pi\\sigma^2\n",
    "-\\frac{1}{2}\\frac{1}{\\sigma^2}\\sum_{i=1}^{m}(y^{(i)}-\\theta^Tx^{(i)})^2\\\\\n",
    "\\end{eqnarray}\n",
    "$$"
   ]
  },
  {
   "cell_type": "markdown",
   "metadata": {},
   "source": [
    "该问题等价于负log似然(**log likelihood**), 且本最值问题仅和$\\theta$有关\n",
    "$$\n",
    "-logL(\\theta)=\\frac{1}{2}m\\cdot log 2\\pi\\sigma^2\n",
    "+\\frac{1}{2}\\cdot \\frac{1}{\\sigma^2}\\sum_{i=1}^{m}(y^{(i)}\n",
    "+\\theta^Tx^{(i)})^2\\\\\n",
    "\\propto\\frac{1}{2}\\sum_{i=1}^{m}(y^{(i)}+\\theta^Tx^{(i)})^2\\\\\n",
    "$$"
   ]
  },
  {
   "cell_type": "markdown",
   "metadata": {},
   "source": [
    "此时该问题等价于最小二乘(OLS)问题"
   ]
  },
  {
   "cell_type": "code",
   "execution_count": null,
   "metadata": {},
   "outputs": [],
   "source": []
  }
 ],
 "metadata": {
  "kernelspec": {
   "display_name": "Python 3",
   "language": "python",
   "name": "python3"
  },
  "language_info": {
   "codemirror_mode": {
    "name": "ipython",
    "version": 3
   },
   "file_extension": ".py",
   "mimetype": "text/x-python",
   "name": "python",
   "nbconvert_exporter": "python",
   "pygments_lexer": "ipython3",
   "version": "3.6.4"
  },
  "toc": {
   "nav_menu": {},
   "number_sections": true,
   "sideBar": true,
   "skip_h1_title": false,
   "title_cell": "线性回归_极大似然",
   "title_sidebar": "Contents",
   "toc_cell": true,
   "toc_position": {},
   "toc_section_display": true,
   "toc_window_display": false
  }
 },
 "nbformat": 4,
 "nbformat_minor": 2
}
