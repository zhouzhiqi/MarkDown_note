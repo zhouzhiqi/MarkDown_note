{
 "cells": [
  {
   "cell_type": "markdown",
   "metadata": {
    "toc": true
   },
   "source": [
    "<h1>线性回归模型<span class=\"tocSkip\"></span></h1>\n",
    "<div class=\"toc\"><ul class=\"toc-item\"><li><span><a href=\"#工具包\" data-toc-modified-id=\"工具包-1\"><span class=\"toc-item-num\">1&nbsp;&nbsp;</span>工具包</a></span></li><li><span><a href=\"#数据$D=\\{\\mathbf{x}_i-,-y_i\\}_{i=1}^{m}-$\" data-toc-modified-id=\"数据$D=\\{\\mathbf{x}_i-,-y_i\\}_{i=1}^{m}-$-2\"><span class=\"toc-item-num\">2&nbsp;&nbsp;</span>数据$D=\\{\\mathbf{x}_i , y_i\\}_{i=1}^{m} $</a></span></li><li><span><a href=\"#函数$h(x)$\" data-toc-modified-id=\"函数$h(x)$-3\"><span class=\"toc-item-num\">3&nbsp;&nbsp;</span>函数$h(x)$</a></span></li><li><span><a href=\"#梯度下降\" data-toc-modified-id=\"梯度下降-4\"><span class=\"toc-item-num\">4&nbsp;&nbsp;</span>梯度下降</a></span></li></ul></div>"
   ]
  },
  {
   "cell_type": "markdown",
   "metadata": {},
   "source": [
    "# 工具包"
   ]
  },
  {
   "cell_type": "code",
   "execution_count": 10,
   "metadata": {
    "ExecuteTime": {
     "end_time": "2018-03-30T12:04:22.906508Z",
     "start_time": "2018-03-30T12:04:20.736827Z"
    }
   },
   "outputs": [],
   "source": [
    "import numpy as np\n",
    "import pandas as pd"
   ]
  },
  {
   "cell_type": "markdown",
   "metadata": {
    "ExecuteTime": {
     "end_time": "2018-03-30T12:16:09.927815Z",
     "start_time": "2018-03-30T12:16:09.921812Z"
    }
   },
   "source": [
    "# 数据$D=\\{\\mathbf{x}_i , y_i\\}_{i=1}^{m} $"
   ]
  },
  {
   "cell_type": "code",
   "execution_count": 36,
   "metadata": {
    "ExecuteTime": {
     "end_time": "2018-03-30T12:37:05.833618Z",
     "start_time": "2018-03-30T12:37:05.827114Z"
    }
   },
   "outputs": [],
   "source": [
    "x = pd.DataFrame(np.random.randint(-5,15,(9,3))\n",
    "                 , columns=['F_1','F_2','F_3']\n",
    "                 , index=['x_'+str(i) for i in range(1,10)])"
   ]
  },
  {
   "cell_type": "code",
   "execution_count": 37,
   "metadata": {
    "ExecuteTime": {
     "end_time": "2018-03-30T12:37:06.246810Z",
     "start_time": "2018-03-30T12:37:06.241305Z"
    }
   },
   "outputs": [],
   "source": [
    "y = pd.DataFrame(np.random.randint(-5,15,(9,1))\n",
    "                 , columns=['label']\n",
    "                 , index=['y_'+str(i) for i in range(1,10)])"
   ]
  },
  {
   "cell_type": "markdown",
   "metadata": {},
   "source": [
    "给定训练数据$D=\\{\\mathbf{x}_i , y_i\\}_{i=1}^{m}$(**training set**),    \n",
    "其中$y\\in \\mathbb{R},m=9,n=3$,   \n",
    "$\\mathbf{x}_i$(**features**),是n=3的行向量   \n",
    "$y_i$(**target**)训练总数据个数是m=9\n",
    "$(\\mathbf{x}_i , y_i)$(**training example**)"
   ]
  },
  {
   "cell_type": "code",
   "execution_count": 38,
   "metadata": {
    "ExecuteTime": {
     "end_time": "2018-03-30T12:37:07.349001Z",
     "start_time": "2018-03-30T12:37:07.337994Z"
    }
   },
   "outputs": [
    {
     "name": "stdout",
     "output_type": "stream",
     "text": [
      "x_0= [ 9 -4  3] y_0= [11]\n",
      "x_1= [ 1 -4  5] y_1= [9]\n",
      "x_2= [ 0  0 11] y_2= [2]\n",
      "x_3= [5 2 1] y_3= [7]\n",
      "x_4= [-2  0 13] y_4= [0]\n",
      "x_5= [12  5  7] y_5= [6]\n",
      "x_6= [ 8 -3  2] y_6= [3]\n",
      "x_7= [ 3 -2  4] y_7= [12]\n",
      "x_8= [ 8  8 -3] y_8= [14]\n"
     ]
    }
   ],
   "source": [
    "for i in range(9):\n",
    "    print('x_'+str(i)+'=',x.iloc[i].values\n",
    "         ,'y_'+str(i)+'=',y.iloc[i].values)"
   ]
  },
  {
   "cell_type": "markdown",
   "metadata": {},
   "source": [
    "# 函数$h(x)$"
   ]
  },
  {
   "cell_type": "markdown",
   "metadata": {},
   "source": [
    "回归学习一个从输入$\\mathcal{X}$到输出$\\mathcal{Y}$的映射$h$(**hypothesis**)   \n",
    "$$h_\\theta(x)=\\theta_0x_0 + \\theta_1x_1 + \\theta_2x_2 +\\theta_3x_3\n",
    "$$\n",
    "其中$\\theta_i$(**weights/parameters**)称为权重项   \n",
    "$b=\\theta_0x_0$(**intercept term**)称为偏置项, 其中$x_0=1, n=3$"
   ]
  },
  {
   "cell_type": "markdown",
   "metadata": {},
   "source": [
    "为了简写方便,定义预测值:$\\hat{y} = h(\\mathbf{x})$   \n",
    "$$h(x)=\\sum_{i=0}^n \\theta_i x_i = \\theta^Tx \n",
    "$$\n",
    "其中,$x_0=1, n=特征维数$"
   ]
  },
  {
   "cell_type": "markdown",
   "metadata": {},
   "source": [
    "为了定量描述$h(x)$ 与原始数据的拟合程度   \n",
    "定义损失函数$J(\\theta)$(**cost function**)\n",
    "$$J(\\theta)=\\frac{1}{2} \\sum_{i=1}^{m}\n",
    "\\big( h_\\theta(x_i) -y_i \\big) ^2\n",
    "$$"
   ]
  },
  {
   "cell_type": "markdown",
   "metadata": {},
   "source": [
    "# 梯度下降"
   ]
  },
  {
   "cell_type": "markdown",
   "metadata": {},
   "source": [
    "梯度下降(**gradient descent**),现有理论已证明,   \n",
    "* 沿着负梯度的方向,下降最快\n",
    "则梯度更新公式为\n",
    "$$\\theta_j := \\theta_j - \\lambda\\frac{\\partial}{\\partial\\theta_j}J(\\theta)\n",
    "$$"
   ]
  },
  {
   "cell_type": "markdown",
   "metadata": {},
   "source": [
    "$\\lambda$(**learning rate**),为每步更新的步长,又称学习率,   \n",
    "在梯度下降的后期,梯度$\\frac{\\partial}{\\partial\\theta_j}J(\\theta)$变化减小,$\\lambda$也相应变小,   \n",
    "如$\\lambda=\\lambda*0.93$"
   ]
  },
  {
   "cell_type": "markdown",
   "metadata": {},
   "source": [
    "该算法使用步骤\n",
    "1. 初始化$\\theta$,如全部赋值0,或$(0.1,\\sigma^2)$\n",
    "2. 构建损失函数,构建更新公式,学习率递减\n",
    "3. 重复固定步数的2,或重复2直到梯度下降很小时\n"
   ]
  },
  {
   "cell_type": "markdown",
   "metadata": {},
   "source": [
    "$$\n",
    "\\begin{equation}\n",
    "\\begin{aligned}\n",
    "\\frac{\\partial}{\\partial \\theta_j}J(\\theta)\n",
    "&=\\frac{\\partial}{\\partial \\theta_j}\\frac{1}{2}\n",
    "(h_\\theta(x)-y )^2\\\\\n",
    "&=2 \\cdot \\frac{1}{2}(h_\\theta(x)-y) \\cdot\n",
    "\\frac{\\partial}{\\partial \\theta_j} (h_\\theta(x)-y )^2\\\\\n",
    "&=(h_\\theta(x)-y) \\cdot\n",
    "\\frac{\\partial}{\\partial \\theta_j}\n",
    "\\left(\\sum_{i=0}^{n}\\theta_i x_i-y \\right)\\\\\n",
    "&=(h_\\theta(x)-y)x_i\n",
    "\\end{aligned}\n",
    "\\end{equation}\n",
    "$$"
   ]
  },
  {
   "cell_type": "code",
   "execution_count": null,
   "metadata": {},
   "outputs": [],
   "source": []
  }
 ],
 "metadata": {
  "kernelspec": {
   "display_name": "Python 3",
   "language": "python",
   "name": "python3"
  },
  "language_info": {
   "codemirror_mode": {
    "name": "ipython",
    "version": 3
   },
   "file_extension": ".py",
   "mimetype": "text/x-python",
   "name": "python",
   "nbconvert_exporter": "python",
   "pygments_lexer": "ipython3",
   "version": "3.6.4"
  },
  "toc": {
   "nav_menu": {},
   "number_sections": true,
   "sideBar": true,
   "skip_h1_title": false,
   "title_cell": "线性回归模型",
   "title_sidebar": "Contents",
   "toc_cell": true,
   "toc_position": {},
   "toc_section_display": true,
   "toc_window_display": false
  }
 },
 "nbformat": 4,
 "nbformat_minor": 2
}
