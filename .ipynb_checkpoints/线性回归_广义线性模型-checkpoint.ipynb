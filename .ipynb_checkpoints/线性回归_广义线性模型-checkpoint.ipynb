{
 "cells": [
  {
   "cell_type": "markdown",
   "metadata": {
    "toc": true
   },
   "source": [
    "<h1>线性回归_广义线性模型<span class=\"tocSkip\"></span></h1>\n",
    "<div class=\"toc\"><ul class=\"toc-item\"><li><span><a href=\"#工具包\" data-toc-modified-id=\"工具包-1\"><span class=\"toc-item-num\">1&nbsp;&nbsp;</span>工具包</a></span></li><li><span><a href=\"#数据\" data-toc-modified-id=\"数据-2\"><span class=\"toc-item-num\">2&nbsp;&nbsp;</span>数据</a></span></li><li><span><a href=\"#指数分布族\" data-toc-modified-id=\"指数分布族-3\"><span class=\"toc-item-num\">3&nbsp;&nbsp;</span>指数分布族</a></span><ul class=\"toc-item\"><li><span><a href=\"#指数分布族_伯努利分布\" data-toc-modified-id=\"指数分布族_伯努利分布-3.1\"><span class=\"toc-item-num\">3.1&nbsp;&nbsp;</span>指数分布族_伯努利分布</a></span></li><li><span><a href=\"#指数分布族_高斯分布\" data-toc-modified-id=\"指数分布族_高斯分布-3.2\"><span class=\"toc-item-num\">3.2&nbsp;&nbsp;</span>指数分布族_高斯分布</a></span></li><li><span><a href=\"#指数分布族_其它分布\" data-toc-modified-id=\"指数分布族_其它分布-3.3\"><span class=\"toc-item-num\">3.3&nbsp;&nbsp;</span>指数分布族_其它分布</a></span></li></ul></li><li><span><a href=\"#构建广义线性模型\" data-toc-modified-id=\"构建广义线性模型-4\"><span class=\"toc-item-num\">4&nbsp;&nbsp;</span>构建广义线性模型</a></span><ul class=\"toc-item\"><li><span><a href=\"#普通最小二乘法\" data-toc-modified-id=\"普通最小二乘法-4.1\"><span class=\"toc-item-num\">4.1&nbsp;&nbsp;</span>普通最小二乘法</a></span></li><li><span><a href=\"#逻辑回归\" data-toc-modified-id=\"逻辑回归-4.2\"><span class=\"toc-item-num\">4.2&nbsp;&nbsp;</span>逻辑回归</a></span></li><li><span><a href=\"#Softmax回归\" data-toc-modified-id=\"Softmax回归-4.3\"><span class=\"toc-item-num\">4.3&nbsp;&nbsp;</span>Softmax回归</a></span></li></ul></li></ul></div>"
   ]
  },
  {
   "cell_type": "markdown",
   "metadata": {
    "ExecuteTime": {
     "end_time": "2018-03-31T05:40:58.680092Z",
     "start_time": "2018-03-31T05:40:58.674087Z"
    }
   },
   "source": [
    "# 工具包"
   ]
  },
  {
   "cell_type": "markdown",
   "metadata": {
    "ExecuteTime": {
     "end_time": "2018-03-31T05:41:07.776009Z",
     "start_time": "2018-03-31T05:41:07.773009Z"
    }
   },
   "source": [
    "# 数据"
   ]
  },
  {
   "cell_type": "markdown",
   "metadata": {},
   "source": [
    "给定训练数据$D=\\{\\mathbf{x}_i , y_i\\}_{i=1}^{m}$(**training set**),    \n",
    "每组$(\\mathbf{x}_i , y_i)$(**training example**)都是一组训练样例,在此例中训练总数据个数m=9   \n",
    "$\\mathbf{x}_i$(**features**),是n维向量,在此例中n=3,即有3个特征   \n",
    "$y_i\\in \\mathbb{R}$(**target**),是监督学习中的目标变量,\n",
    "* $y_i$是连续变量时为回归(**regression**),\n",
    "* $y_i$是离散变量时为分类(**classification**)"
   ]
  },
  {
   "cell_type": "markdown",
   "metadata": {
    "ExecuteTime": {
     "end_time": "2018-03-31T05:41:46.383061Z",
     "start_time": "2018-03-31T05:41:46.380059Z"
    }
   },
   "source": [
    "# 指数分布族"
   ]
  },
  {
   "cell_type": "markdown",
   "metadata": {},
   "source": [
    "如果一个分布能用下面的方式来写出来,我们就说这类分布属于指数分布族(**exponential family distributions**)\n",
    "$$\n",
    "p(y;\\eta)=b(y)\\exp(\\eta^T T(y) - a(\\eta))\n",
    "$$   "
   ]
  },
  {
   "cell_type": "markdown",
   "metadata": {},
   "source": [
    "$\\eta$ 叫做此分布的自然参数(**natural parameter**,也叫典范参数canonical parameter);    \n",
    "$T(y)$ 叫做充分统计量(**sufficient statistic**),   \n",
    "我们目前用的这些分布中通常 $T(y) = y$;   \n",
    "$a(η)$ 是一个对数分割函数(**log partition function**),   \n",
    "$\\exp(-a(\\eta))$ 这个量本质上扮演了归一化常数(**normalization constant**)的角色,    \n",
    "也就是确保$p(y;\\eta)$ 的总和等于1   "
   ]
  },
  {
   "cell_type": "markdown",
   "metadata": {},
   "source": [
    "对$ T,a,b$ 的固定选择, \n",
    "就定义了一个用$\\eta$ 进行参数化的分布族(family,或者叫集set);   \n",
    "通过改变$\\eta$ 我们就能得到这个分布族中的不同分布。"
   ]
  },
  {
   "cell_type": "markdown",
   "metadata": {
    "ExecuteTime": {
     "end_time": "2018-03-31T05:42:40.678521Z",
     "start_time": "2018-03-31T05:42:40.675520Z"
    }
   },
   "source": [
    "# 构建广义线性模型"
   ]
  },
  {
   "cell_type": "markdown",
   "metadata": {},
   "source": [
    "设想一个分类或者回归问题,   \n",
    "要预测一些随机变量y的值,作为x的一个函数.   \n",
    "要导出适用于这个问题的广义线性模型,   \n",
    "就要对我们的模型给定$x$ 下$y$ 的条件分布来做出以下三个假设:   \n",
    "\n",
    "1.\t$y | x; θ \\sim $Exponential Family$(\\eta)$,   \n",
    "即给定$ x , θ, y$ 的分布属于指数分布族,   \n",
    "是一个参数为 η 的指数分布.\n",
    "2.\t给定$x$, 目的是要预测对应这个给定$x$ 的$T(y)$ 的期望值.   \n",
    "咱们的例子中绝大部分情况都是$T(y) = y$,   \n",
    "这也就意味着我们的学习假设$h$ 输出的预测值$h(x)$   \n",
    "要满足$h(x) = E[y|x]$   \n",
    "(注意, 这个假设通过对$h_\\theta(x)$ 的选择而满足,   \n",
    "在逻辑回归和线性回归中都是如此.   \n",
    "例如在逻辑回归中, $$h_\\theta(x) = p (y = 1|x; \\theta) = 0 \\cdot p (y = 0|x; \\theta) + 1 \\cdot p(y = 1|x; \\theta) = E[y|x;θ]$$.   \n",
    "这里的E[y|x]应该就是对给定x时的y值的期望的意思) \n",
    "3.\t自然参数$\\eta$ 和输入值$x$ 是线性相关的,$η = \\theta^T x$,    \n",
    "或者如果$\\eta$ 是有值的向量，则有$\\eta_i = \\theta_i^T x$.\n"
   ]
  },
  {
   "cell_type": "markdown",
   "metadata": {},
   "source": [
    "## 普通最小二乘法"
   ]
  },
  {
   "cell_type": "markdown",
   "metadata": {},
   "source": [
    "目标变量$y$ (在广义线性模型的术语也叫做响应变量**response variable**）   \n",
    "是连续的, 然后我们将给定$x$ 的$y$ 的分布以高斯分布$\\mathcal{N}(\\mu,\\sigma^2)$来建模,    \n",
    "其中$\\mu$可以使依赖$x$ 的一个函数。"
   ]
  },
  {
   "cell_type": "markdown",
   "metadata": {},
   "source": [
    "$$\n",
    "\\begin{eqnarray}\n",
    "h_\\theta(x) & = & E[y|x;\\theta]\\\\\n",
    " & = & \\mu\\\\\n",
    " & = & \\eta \\\\\n",
    " & = & \\theta^T x\\\\\n",
    "\\end{eqnarray}\n",
    "$$"
   ]
  },
  {
   "cell_type": "markdown",
   "metadata": {},
   "source": [
    "## 逻辑回归"
   ]
  },
  {
   "cell_type": "markdown",
   "metadata": {},
   "source": [
    "目标变量$y$ (在广义线性模型的术语也叫做响应变量**response variable**）   \n",
    "是离散的, $y \\in \\{0,1\\}$然后我们将给定$x$ 的$y$ 的分布以伯努利分布$\\mathcal{B}(\\varphi)$来建模,    \n",
    "其中$\\varphi$可以使依赖$x$ 的一个函数。"
   ]
  },
  {
   "cell_type": "markdown",
   "metadata": {},
   "source": [
    "$$\n",
    "\\begin{eqnarray}\n",
    "h_\\theta(x) & = & E[y|x;\\theta]\\\\\n",
    " & = & \\phi\\\\\n",
    " & = & \\frac{1}{1+e^{-\\eta}} \\\\\n",
    " & = & \\frac{1}{1+e^{-\\theta^T x}}\\\\\n",
    "\\end{eqnarray}\n",
    "$$"
   ]
  },
  {
   "cell_type": "markdown",
   "metadata": {},
   "source": [
    "## Softmax回归"
   ]
  },
  {
   "cell_type": "markdown",
   "metadata": {},
   "source": [
    "目标变量$y$ (在广义线性模型的术语也叫做响应变量**response variable**）   \n",
    "是离散的, $y \\in \\{1,2,...,k\\}$然后我们将给定$x$ 的$y$ 的分布以多项式分布$$\\mathcal{B}(\\varphi_1,\\varphi_2,...,\\varphi_k),\n",
    "\\sum_{i=1}^{k}\\varphi_i=1,\n",
    "\\varphi_i=p(y=i,\\varphi)$$来建模,    \n",
    "其中$(\\varphi_1,\\varphi_2,...,\\varphi_k)$可以使依赖$x$ 的一个函数。"
   ]
  },
  {
   "cell_type": "markdown",
   "metadata": {},
   "source": [
    "那么对于$\\eta_i$是一个$x$的线性函数,   \n",
    "则$\\eta_i=\\theta_i^T x\\ (i \\in{1,2,...,k-1})$   \n",
    "则$\\{ \\theta_1, \\theta_2,..., \\theta_{k-1}\\} \\in \\mathcal{R}^{n+1} $   \n",
    "同样的$\\theta_k=\\vec{0} \\to \\eta_k=\\theta_k^T x =\\vec{0}$\n",
    "$$\n",
    "\\begin{eqnarray}\n",
    "p(y=i|x;\\theta) & = &\\phi_i\\\\\n",
    " & = & \\frac{e^{\\eta_i}}{\\sum_{j=1}^{k}e^{\\eta_j}} \\\\\n",
    " & = & \\frac{e^{\\theta_i^T x}}{\\sum_{j=1}^{k}e^{\\theta_j^T x}}\\\\\n",
    "\\end{eqnarray}\n",
    "$$"
   ]
  },
  {
   "cell_type": "markdown",
   "metadata": {},
   "source": [
    "当$y \\in \\{ 1,...,k\\}$时,处理多分类问题时称为**softmax regression**   \n",
    "$$\n",
    "\\begin{eqnarray}\n",
    "h_\\theta(x) \n",
    "& = &E[T(y)|x;\\theta]\\\\\n",
    "& = & \\left(\\begin{array}\\\\ \n",
    "1\\{y=1\\}\\\\ \n",
    "2\\{y=2\\}\\\\\n",
    "3\\{y=3\\}\\\\ \n",
    "\\vdots\\\\ \n",
    "k\\{y=k\\}\\\\\n",
    "\\end{array}\\bigg|x;\\theta\\right)\n",
    "=\\left(\\begin{array}\\\\ \n",
    "\\phi_1\\\\ \n",
    "\\phi_2\\\\ \n",
    "\\phi_3\\\\ \n",
    "\\vdots\\\\ \n",
    "\\phi_{k-1}\n",
    "\\end{array}\\right)\n",
    "\\end{eqnarray}\n",
    "$$"
   ]
  },
  {
   "cell_type": "markdown",
   "metadata": {},
   "source": [
    "$$\n",
    "\\begin{eqnarray}\n",
    "& = & \\left(\\begin{array}\\\\ \n",
    "\\frac{e^{\\theta_1^T x}}{\\sum_{j=1}^{k}e^{\\theta_j^T x}}\\\\\n",
    "\\frac{e^{\\theta_2^T x}}{\\sum_{j=1}^{k}e^{\\theta_j^T x}}\\\\\n",
    "\\frac{e^{\\theta_3^T x}}{\\sum_{j=1}^{k}e^{\\theta_j^T x}}\\\\\n",
    "\\vdots\\\\ \n",
    "\\frac{e^{\\theta_{k-1}^T x}}{\\sum_{j=1}^{k}e^{\\theta_j^T x}}\\\\\n",
    "\\end{array}\\right)\\\\\n",
    "\\end{eqnarray}\n",
    "$$"
   ]
  },
  {
   "cell_type": "code",
   "execution_count": null,
   "metadata": {},
   "outputs": [],
   "source": []
  }
 ],
 "metadata": {
  "kernelspec": {
   "display_name": "Python 3",
   "language": "python",
   "name": "python3"
  },
  "language_info": {
   "codemirror_mode": {
    "name": "ipython",
    "version": 3
   },
   "file_extension": ".py",
   "mimetype": "text/x-python",
   "name": "python",
   "nbconvert_exporter": "python",
   "pygments_lexer": "ipython3",
   "version": "3.6.4"
  },
  "toc": {
   "nav_menu": {},
   "number_sections": true,
   "sideBar": true,
   "skip_h1_title": false,
   "title_cell": "线性回归_广义线性模型",
   "title_sidebar": "Contents",
   "toc_cell": true,
   "toc_position": {},
   "toc_section_display": true,
   "toc_window_display": false
  }
 },
 "nbformat": 4,
 "nbformat_minor": 2
}
