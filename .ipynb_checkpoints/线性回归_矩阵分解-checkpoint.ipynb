{
 "cells": [
  {
   "cell_type": "markdown",
   "metadata": {
    "toc": true
   },
   "source": [
    "<h1>线性回归_极大似然<span class=\"tocSkip\"></span></h1>\n",
    "<div class=\"toc\"><ul class=\"toc-item\"><li><span><a href=\"#工具包\" data-toc-modified-id=\"工具包-1\"><span class=\"toc-item-num\">1&nbsp;&nbsp;</span>工具包</a></span></li><li><span><a href=\"#数据\" data-toc-modified-id=\"数据-2\"><span class=\"toc-item-num\">2&nbsp;&nbsp;</span>数据</a></span></li><li><span><a href=\"#函数$f(x)$\" data-toc-modified-id=\"函数$f(x)$-3\"><span class=\"toc-item-num\">3&nbsp;&nbsp;</span>函数$f(x)$</a></span></li><li><span><a href=\"#矩阵的秩\" data-toc-modified-id=\"矩阵的秩-4\"><span class=\"toc-item-num\">4&nbsp;&nbsp;</span>矩阵的秩</a></span></li><li><span><a href=\"#定义向量符号\" data-toc-modified-id=\"定义向量符号-5\"><span class=\"toc-item-num\">5&nbsp;&nbsp;</span>定义向量符号</a></span></li><li><span><a href=\"#损失函数\" data-toc-modified-id=\"损失函数-6\"><span class=\"toc-item-num\">6&nbsp;&nbsp;</span>损失函数</a></span></li><li><span><a href=\"#逆和伪逆\" data-toc-modified-id=\"逆和伪逆-7\"><span class=\"toc-item-num\">7&nbsp;&nbsp;</span>逆和伪逆</a></span></li></ul></div>"
   ]
  },
  {
   "cell_type": "markdown",
   "metadata": {},
   "source": [
    "# 工具包"
   ]
  },
  {
   "cell_type": "code",
   "execution_count": 1,
   "metadata": {
    "ExecuteTime": {
     "end_time": "2018-03-31T02:23:50.320961Z",
     "start_time": "2018-03-31T02:23:49.864052Z"
    }
   },
   "outputs": [],
   "source": [
    "import numpy as np\n",
    "import pandas as pd"
   ]
  },
  {
   "cell_type": "markdown",
   "metadata": {},
   "source": [
    "# 数据"
   ]
  },
  {
   "cell_type": "markdown",
   "metadata": {},
   "source": [
    "给定训练数据$D=\\{\\mathbf{x}_i , y_i\\}_{i=1}^{m}$(**training set**),    \n",
    "每组$(\\mathbf{x}_i , y_i)$(**training example**)都是一组训练样例,在此例中训练总数据个数m=9   \n",
    "$\\mathbf{x}_i$(**features**),是n维向量,在此例中n=3,即有3个特征   \n",
    "$y_i\\in \\mathbb{R}$(**target**),是监督学习中的目标变量,\n",
    "* $y_i$是连续变量时为回归(**regression**),\n",
    "* $y_i$是离散变量时为分类(**classification**)"
   ]
  },
  {
   "cell_type": "markdown",
   "metadata": {},
   "source": [
    "# 函数$f(x)$"
   ]
  },
  {
   "cell_type": "markdown",
   "metadata": {},
   "source": [
    "回归学习的目的是学习到一个映射$f:\\mathbb{R}^{m\\times n} \\mapsto \\mathbb{R}$(**hypothesis**) "
   ]
  },
  {
   "cell_type": "markdown",
   "metadata": {},
   "source": [
    "原始数据\n",
    "$$\n",
    "\\mathbf{A} =\n",
    "\\left( \\begin{array}{ccc}\n",
    "x_{11} & x_{12} & \\ldots & x_{1n}\\\\\n",
    "x_{21} & x_{22} & \\ldots & x_{2n}\\\\\n",
    "\\vdots & \\vdots & \\ddots & \\vdots\\\\\n",
    "x_{m1} & x_{m2} & \\ldots & x_{mn}\n",
    "\\end{array} \\right)\n",
    "$$"
   ]
  },
  {
   "cell_type": "markdown",
   "metadata": {},
   "source": [
    "Jacobian矩阵\n",
    "$$\n",
    "\\nabla_\\mathbf{A}f(\\mathbf{A})=\n",
    "\\left( \\begin{array}{ccc}\n",
    "\\frac{\\partial f}{\\partial x_{11}} & \\frac{\\partial f}{\\partial x_{12}} & \\ldots & \\frac{\\partial f}{\\partial x_{1n}}\\\\\n",
    "\\frac{\\partial f}{\\partial x_{21}} & \\frac{\\partial f}{\\partial x_{22}} & \\ldots & \\frac{\\partial f}{\\partial x_{2n}}\\\\\n",
    "\\vdots & \\vdots & \\ddots & \\vdots\\\\\n",
    "\\frac{\\partial f}{\\partial x_{m1}} & \\frac{\\partial f}{\\partial x_{m2}} & \\ldots & \\frac{\\partial f}{\\partial x_{mn}}\n",
    "\\end{array} \\right)\n",
    "$$"
   ]
  },
  {
   "cell_type": "markdown",
   "metadata": {},
   "source": [
    "例子:\n",
    "$$\n",
    "\\mathbf{A} =\n",
    "\\left( \\begin{array}{ccc}\n",
    "x_{11} & x_{12}\\\\\n",
    "x_{21} & x_{22}\\\\\n",
    "\\end{array} \\right)\\\\\n",
    "f(\\mathbf{A})=4x_{11}+5x_{12}^2+x_{21}x_{22}\\\\\n",
    "\\nabla_\\mathbf{A}f(\\mathbf{A})=\n",
    "\\left( \\begin{array}{ccc}\n",
    "\\frac{\\partial f}{\\partial x_{11}} & \\frac{\\partial f}{\\partial x_{12}}\\\\\n",
    "\\frac{\\partial f}{\\partial x_{21}} & \\frac{\\partial f}{\\partial x_{22}}\\\\\n",
    "\\end{array} \\right)=\n",
    "\\left( \\begin{array}{ccc}\n",
    "4 & 10x_{12}\\\\\n",
    "x_{22} & x_{21}\\\\\n",
    "\\end{array} \\right)\\\\\n",
    "$$"
   ]
  },
  {
   "cell_type": "markdown",
   "metadata": {},
   "source": [
    "# 矩阵的秩"
   ]
  },
  {
   "cell_type": "markdown",
   "metadata": {},
   "source": [
    "矩阵的秩(**trace**)是矩阵的对角线元素之和, 记作tr\n",
    "$$\n",
    "tr\\mathbf{A}=\\sum_{i=1}^{n}x_{ii}\n",
    "$$"
   ]
  },
  {
   "cell_type": "markdown",
   "metadata": {},
   "source": [
    "运算性质:\n",
    "$$\n",
    "trAB=trBA\\\\\n",
    "trABC=trCAB=trBCA\\\\\n",
    "trABCD=trDABC=trCDAB=trBCDA\n",
    "$$"
   ]
  },
  {
   "cell_type": "markdown",
   "metadata": {
    "ExecuteTime": {
     "end_time": "2018-03-31T03:02:22.515445Z",
     "start_time": "2018-03-31T03:02:22.509438Z"
    }
   },
   "source": [
    "$$\n",
    "trA=trA^T\\\\\n",
    "tr(A+B)=trA+trB\\\\\n",
    "tr\\ aA=a\\ trA\n",
    "$$"
   ]
  },
  {
   "cell_type": "markdown",
   "metadata": {
    "ExecuteTime": {
     "end_time": "2018-03-31T03:09:22.713704Z",
     "start_time": "2018-03-31T03:09:22.705698Z"
    }
   },
   "source": [
    "$$\n",
    "\\begin{eqnarray}\n",
    "\\nabla_A trAB & = & B^T \\\\\n",
    "\\nabla_{A^T}f(A) & = & {\\nabla_{A}f(A)}^T \\\\\n",
    "\\nabla_A trABA^TC & = & CAB+C^TAB^T\\\\\n",
    "\\nabla_A|A| & = &|A|(A^{-1})^T\n",
    "\\end{eqnarray}\n",
    "$$"
   ]
  },
  {
   "cell_type": "markdown",
   "metadata": {},
   "source": [
    "重新定义:\n",
    "$$\n",
    "f:\\mathbb{R}^{m\\times n} \\mapsto \\mathbb{R}\\ \\sim \\ f(A)=trAB\n",
    "$$\n",
    "那么:\n",
    "$$\n",
    "\\nabla_A f(A) = \\nabla_A\\ trAB = B^T\n",
    "$$"
   ]
  },
  {
   "cell_type": "markdown",
   "metadata": {},
   "source": [
    "# 定义向量符号"
   ]
  },
  {
   "cell_type": "markdown",
   "metadata": {},
   "source": [
    "大写黑体符号$\\mathbf{X}$表示矩阵   \n",
    "小写黑体符号$\\mathbf{x}$表示向量   \n",
    "小写字母箭头$\\vec{y}$也表示向量   \n",
    "$$\n",
    "\\mathbf{X}=\\left( \\begin{array}{ccc}\n",
    "--(\\mathbf{x}_1)^T --\\\\\n",
    "--(\\mathbf{x}_2)^T --\\\\\n",
    "\\vdots\\\\\n",
    "--(\\mathbf{x}_m)^T --\\\\\n",
    "\\end{array} \\right) \\ \\ \\ \n",
    "\\vec{y}=\\left( \\begin{array}{ccc}\n",
    "\\mathbf{y}_1 \\\\\n",
    "\\mathbf{y}_2 \\\\\n",
    "\\vdots\\\\\n",
    "\\mathbf{y}_m \\\\\n",
    "\\end{array} \\right)\\\\\n",
    "$$"
   ]
  },
  {
   "cell_type": "markdown",
   "metadata": {},
   "source": [
    "$$\n",
    "\\mathbf{X}\\theta-\\vec{y}\n",
    "=\\left( \\begin{array}{ccc}\n",
    "(\\mathbf{x}_1)^T\\theta\\\\\n",
    "(\\mathbf{x}_2)^T\\theta\\\\\n",
    "\\vdots\\\\\n",
    "(\\mathbf{x}_m)^T\\theta\\\\\n",
    "\\end{array} \\right)\n",
    "-\\left( \\begin{array}{ccc}\n",
    "\\mathbf{y}_1 \\\\\n",
    "\\mathbf{y}_2 \\\\\n",
    "\\vdots\\\\\n",
    "\\mathbf{y}_m \\\\\n",
    "\\end{array} \\right)\n",
    "=\\left( \\begin{array}{ccc}\n",
    "(\\mathbf{x}_1)^T\\theta-\\mathbf{y}_1\\\\\n",
    "(\\mathbf{x}_2)^T\\theta-\\mathbf{y}_2\\\\\n",
    "\\vdots\\\\\n",
    "(\\mathbf{x}_m)^T\\theta-\\mathbf{y}_m\\\\\n",
    "\\end{array} \\right)\n",
    "$$"
   ]
  },
  {
   "cell_type": "markdown",
   "metadata": {
    "ExecuteTime": {
     "end_time": "2018-03-31T03:55:06.560030Z",
     "start_time": "2018-03-31T03:55:06.555026Z"
    }
   },
   "source": [
    "内积:$z^Tz=\\sum_i z_i^2$"
   ]
  },
  {
   "cell_type": "markdown",
   "metadata": {},
   "source": [
    "# 损失函数"
   ]
  },
  {
   "cell_type": "markdown",
   "metadata": {},
   "source": [
    "$$\n",
    "\\begin{eqnarray}\n",
    "J(\\theta) & = & \\frac{1}{2}\\sum_{i=1}^{m}\n",
    "\\big( h_\\theta(\\mathbf{x}_i) -y_i \\big) ^2 \\\\\n",
    " & = & \\frac{1}{2}(\\mathbf{X}\\theta-\\vec{y})^T(\\mathbf{X}\\theta-\\vec{y}) \\\\\n",
    "\\end{eqnarray}\n",
    "$$"
   ]
  },
  {
   "cell_type": "markdown",
   "metadata": {},
   "source": [
    "$$\n",
    "\\begin{eqnarray}\n",
    "\\nabla_\\theta J(\\theta) & = & \\nabla_\\theta \\frac{1}{2}\n",
    "(\\mathbf{X}\\theta-\\vec{y})^T(\\mathbf{X}\\theta-\\vec{y})\\\\\n",
    " & = & \\frac{1}{2} \\nabla_\\theta (\\theta^T \\mathbf{X}^T \\mathbf{X}\\theta\n",
    " -\\theta^T \\mathbf{X}^T\\vec{y}\n",
    " -\\vec{y}^T\\mathbf{X}\\theta\n",
    " +\\vec{y}^T\\vec{y}) \\\\\n",
    " & = & \\frac{1}{2} \\nabla_\\theta \\ tr(\\theta^T \\mathbf{X}^T \\mathbf{X}\\theta\n",
    " -\\theta^T \\mathbf{X}^T\\vec{y}\n",
    " -\\vec{y}^T\\mathbf{X}\\theta\n",
    " +\\vec{y}^T\\vec{y}) \\\\\n",
    " & = &\\frac{1}{2} \\nabla_\\theta (tr\\ \\theta^T \\mathbf{X}^T \\mathbf{X}\\theta\n",
    " -2tr\\ \\vec{y}^T\\mathbf{X}\\theta) \\\\\n",
    " & = & \\frac{1}{2}(\\mathbf{X}^T \\mathbf{X}\\theta\n",
    " +\\mathbf{X}^T \\mathbf{X}\\theta\n",
    " -2\\mathbf{X}^T \\vec{y})\\\\\n",
    " & = & \\mathbf{X}^T \\mathbf{X}\\theta - \\mathbf{X}^T \\vec{y}\n",
    "\\end{eqnarray}\n",
    "$$"
   ]
  },
  {
   "cell_type": "markdown",
   "metadata": {
    "ExecuteTime": {
     "end_time": "2018-03-31T04:19:50.611351Z",
     "start_time": "2018-03-31T04:19:50.604848Z"
    }
   },
   "source": [
    "正规方程(**normal equat**):\n",
    "$$\n",
    "\\nabla_\\theta J(\\theta)=\\mathbf{X}^T \\mathbf{X}\\theta - \\mathbf{X}^T \\vec{y}=0\\\\\n",
    "\\to \\mathbf{X}^T \\mathbf{X}\\theta = \\mathbf{X}^T \\vec{y}\n",
    "$$"
   ]
  },
  {
   "cell_type": "markdown",
   "metadata": {},
   "source": [
    "最终:\n",
    "$$\n",
    "\\theta=(\\mathbf{X}^T\\mathbf{X})^{-1}\\mathbf{X}^T\\vec{y}\n",
    "$$"
   ]
  },
  {
   "cell_type": "markdown",
   "metadata": {},
   "source": [
    "# 逆和伪逆"
   ]
  },
  {
   "cell_type": "code",
   "execution_count": null,
   "metadata": {},
   "outputs": [],
   "source": []
  }
 ],
 "metadata": {
  "kernelspec": {
   "display_name": "Python 3",
   "language": "python",
   "name": "python3"
  },
  "language_info": {
   "codemirror_mode": {
    "name": "ipython",
    "version": 3
   },
   "file_extension": ".py",
   "mimetype": "text/x-python",
   "name": "python",
   "nbconvert_exporter": "python",
   "pygments_lexer": "ipython3",
   "version": "3.6.4"
  },
  "toc": {
   "nav_menu": {},
   "number_sections": true,
   "sideBar": true,
   "skip_h1_title": false,
   "title_cell": "线性回归_极大似然",
   "title_sidebar": "Contents",
   "toc_cell": true,
   "toc_position": {},
   "toc_section_display": true,
   "toc_window_display": false
  }
 },
 "nbformat": 4,
 "nbformat_minor": 2
}
