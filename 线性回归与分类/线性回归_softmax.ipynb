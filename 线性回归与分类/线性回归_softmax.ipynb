{
 "cells": [
  {
   "cell_type": "markdown",
   "metadata": {
    "toc": true
   },
   "source": [
    "<h1>线性回归_广义线性模型<span class=\"tocSkip\"></span></h1>\n",
    "<div class=\"toc\"><ul class=\"toc-item\"><li><span><a href=\"#工具包\" data-toc-modified-id=\"工具包-1\"><span class=\"toc-item-num\">1&nbsp;&nbsp;</span>工具包</a></span></li><li><span><a href=\"#数据\" data-toc-modified-id=\"数据-2\"><span class=\"toc-item-num\">2&nbsp;&nbsp;</span>数据</a></span></li><li><span><a href=\"#指数分布族\" data-toc-modified-id=\"指数分布族-3\"><span class=\"toc-item-num\">3&nbsp;&nbsp;</span>指数分布族</a></span><ul class=\"toc-item\"><li><span><a href=\"#指数分布族_伯努利分布\" data-toc-modified-id=\"指数分布族_伯努利分布-3.1\"><span class=\"toc-item-num\">3.1&nbsp;&nbsp;</span>指数分布族_伯努利分布</a></span></li><li><span><a href=\"#指数分布族_高斯分布\" data-toc-modified-id=\"指数分布族_高斯分布-3.2\"><span class=\"toc-item-num\">3.2&nbsp;&nbsp;</span>指数分布族_高斯分布</a></span></li><li><span><a href=\"#指数分布族_多项式分布\" data-toc-modified-id=\"指数分布族_多项式分布-3.3\"><span class=\"toc-item-num\">3.3&nbsp;&nbsp;</span>指数分布族_多项式分布</a></span></li><li><span><a href=\"#指数分布族_其它分布\" data-toc-modified-id=\"指数分布族_其它分布-3.4\"><span class=\"toc-item-num\">3.4&nbsp;&nbsp;</span>指数分布族_其它分布</a></span></li></ul></li></ul></div>"
   ]
  },
  {
   "cell_type": "markdown",
   "metadata": {
    "ExecuteTime": {
     "end_time": "2018-03-31T05:40:58.680092Z",
     "start_time": "2018-03-31T05:40:58.674087Z"
    }
   },
   "source": [
    "# 工具包"
   ]
  },
  {
   "cell_type": "markdown",
   "metadata": {
    "ExecuteTime": {
     "end_time": "2018-03-31T05:41:07.776009Z",
     "start_time": "2018-03-31T05:41:07.773009Z"
    }
   },
   "source": [
    "# 数据"
   ]
  },
  {
   "cell_type": "markdown",
   "metadata": {},
   "source": [
    "给定训练数据$D=\\{\\mathbf{x}_i , y_i\\}_{i=1}^{m}$(**training set**),    \n",
    "每组$(\\mathbf{x}_i , y_i)$(**training example**)都是一组训练样例,在此例中训练总数据个数m=9   \n",
    "$\\mathbf{x}_i$(**features**),是n维向量,在此例中n=3,即有3个特征   \n",
    "$y_i\\in \\mathbb{R}$(**target**),是监督学习中的目标变量,\n",
    "* $y_i$是连续变量时为回归(**regression**),\n",
    "* $y_i$是离散变量时为分类(**classification**)"
   ]
  },
  {
   "cell_type": "markdown",
   "metadata": {
    "ExecuteTime": {
     "end_time": "2018-03-31T05:41:46.383061Z",
     "start_time": "2018-03-31T05:41:46.380059Z"
    }
   },
   "source": [
    "# 指数分布族"
   ]
  },
  {
   "cell_type": "markdown",
   "metadata": {},
   "source": [
    "如果一个分布能用下面的方式来写出来,我们就说这类分布属于指数分布族(**exponential family distributions**)\n",
    "$$\n",
    "p(y;\\eta)=b(y)\\exp(\\eta^T T(y) - a(\\eta))\n",
    "$$   "
   ]
  },
  {
   "cell_type": "markdown",
   "metadata": {},
   "source": [
    "$\\eta$ 叫做此分布的自然参数(**natural parameter**,也叫典范参数canonical parameter);    \n",
    "$T(y)$ 叫做充分统计量(**sufficient statistic**),   \n",
    "我们目前用的这些分布中通常 $T(y) = y$;   \n",
    "$a(η)$ 是一个对数分割函数(**log partition function**),   \n",
    "$\\exp(-a(\\eta))$ 这个量本质上扮演了归一化常数(**normalization constant**)的角色,    \n",
    "也就是确保$p(y;\\eta)$ 的总和等于1   "
   ]
  },
  {
   "cell_type": "markdown",
   "metadata": {},
   "source": [
    "对$ T,a,b$ 的固定选择, \n",
    "就定义了一个用$\\eta$ 进行参数化的分布族(family,或者叫集set);   \n",
    "通过改变$\\eta$ 我们就能得到这个分布族中的不同分布。"
   ]
  },
  {
   "cell_type": "markdown",
   "metadata": {
    "ExecuteTime": {
     "end_time": "2018-03-31T05:42:18.327595Z",
     "start_time": "2018-03-31T05:42:18.323591Z"
    }
   },
   "source": [
    "## 指数分布族_伯努利分布"
   ]
  },
  {
   "cell_type": "markdown",
   "metadata": {
    "ExecuteTime": {
     "end_time": "2018-03-31T06:12:26.642812Z",
     "start_time": "2018-03-31T06:12:26.631805Z"
    }
   },
   "source": [
    "$$\n",
    "\\begin{eqnarray}\n",
    "p(y;\\phi) \n",
    "& = & \\phi^y(1-\\phi)^{1-y}\\\\\n",
    "& = & \\exp \\big(\\log(\\phi^y \\ (1-\\phi)^{1-y}) \\big)\\\\\n",
    "& = & \\exp \\big(y\\log \\phi + (1-y)\\log(1-\\phi) \\big)\\\\\n",
    "& = & \\exp \\left( \\big(\\log(\\frac{\\phi}{1-\\phi} \\big)y +log(1-\\phi) \\right)\\\\\n",
    "\\end{eqnarray}\n",
    "$$"
   ]
  },
  {
   "cell_type": "markdown",
   "metadata": {
    "ExecuteTime": {
     "end_time": "2018-04-03T05:34:35.785325Z",
     "start_time": "2018-04-03T05:34:35.769306Z"
    }
   },
   "source": [
    "对照指数分布族定义\n",
    "$$\n",
    "\\begin{eqnarray}\n",
    "p(y;\\eta) & = & b(y)\\exp(\\eta^T T(y) - a(\\eta))\\\\\n",
    "\\eta = log(\\frac{\\phi}{1-\\phi}) & &\\phi = \\frac{1}{1+e^{-\\eta}}(sigmoid)\\\\\n",
    "b(y) & = & 1\\\\\n",
    "T(y) & = & y\\\\\n",
    "a(\\eta) & = & -log(1-\\phi) = \\log (1+e^{\\eta})\\\\\n",
    "\\end{eqnarray}\n",
    "$$"
   ]
  },
  {
   "cell_type": "markdown",
   "metadata": {
    "ExecuteTime": {
     "end_time": "2018-03-31T05:42:18.327595Z",
     "start_time": "2018-03-31T05:42:18.323591Z"
    }
   },
   "source": [
    "## 指数分布族_高斯分布"
   ]
  },
  {
   "cell_type": "markdown",
   "metadata": {
    "ExecuteTime": {
     "end_time": "2018-03-31T06:12:26.642812Z",
     "start_time": "2018-03-31T06:12:26.631805Z"
    }
   },
   "source": [
    "在推导线性回归的时候$\\sigma^2$ 的值   \n",
    "对我们最终选择的$\\theta, h_\\theta(x)$ 都没有影响.   \n",
    "所以我们可以给$\\sigma^2$ 取一个任意值,   \n",
    "为了简化推导过程，就令$\\sigma^2=1$ "
   ]
  },
  {
   "cell_type": "markdown",
   "metadata": {},
   "source": [
    "$$\n",
    "\\begin{eqnarray}\n",
    "p(y;\\mu) \n",
    "& = & \\frac{1}{\\sqrt{2\\pi}}\\exp(-\\frac{(y-\\mu)^2}{2})\\\\\n",
    "& = & \\frac{1}{\\sqrt{2\\pi}}\n",
    "\\exp \\big(-\\frac{1}{2}(y^2-2y\\mu+\\mu^2) \\big)\\\\\n",
    "& = & \\frac{1}{\\sqrt{2\\pi}}\n",
    "\\exp \\big(-\\frac{1}{2}y^2 \\big) \\cdot\n",
    "\\exp \\big(\\mu y -\\frac{1}{2}\\mu^2 \\big)\\\\\n",
    "\\end{eqnarray}\n",
    "$$"
   ]
  },
  {
   "cell_type": "markdown",
   "metadata": {
    "ExecuteTime": {
     "end_time": "2018-04-03T05:34:35.785325Z",
     "start_time": "2018-04-03T05:34:35.769306Z"
    }
   },
   "source": [
    "对照指数分布族定义\n",
    "$$\n",
    "\\begin{eqnarray}\n",
    "p(y;\\eta) & = & b(y)\\exp(\\eta^T T(y) - a(\\eta))\\\\\n",
    "\\eta & = & \\mu\\\\\n",
    "b(y) & = & \\frac{1}{\\sqrt{2\\pi}}\n",
    "\\exp \\big(-\\frac{1}{2}y^2 \\big) \\\\\n",
    "T(y) & = & y\\\\\n",
    "a(\\eta) & = & \\frac{\\mu^2}{2} = \\frac{\\eta^2}{2}\\\\\n",
    "\\end{eqnarray}\n",
    "$$"
   ]
  },
  {
   "cell_type": "markdown",
   "metadata": {},
   "source": [
    "## 指数分布族_多项式分布"
   ]
  },
  {
   "cell_type": "markdown",
   "metadata": {},
   "source": [
    "目标变量$y$ (在广义线性模型的术语也叫做响应变量**response variable**）   \n",
    "是离散的, $y \\in \\{1,2,...,k\\}$然后我们将给定$x$ 的$y$ 的分布以多项式分布$$\\mathcal{B}(\\varphi_1,\\varphi_2,...,\\varphi_k),\n",
    "\\sum_{i=1}^{k}\\varphi_i=1,\n",
    "\\varphi_i=p(y=i,\\varphi)$$来建模,    \n",
    "其中$(\\varphi_1,\\varphi_2,...,\\varphi_k)$可以使依赖$x$ 的一个函数。"
   ]
  },
  {
   "cell_type": "markdown",
   "metadata": {
    "ExecuteTime": {
     "end_time": "2018-04-03T10:02:15.531662Z",
     "start_time": "2018-04-03T10:02:15.512649Z"
    }
   },
   "source": [
    "为了证明方便与统一我们定义   \n",
    "$$\\varphi_i=p(y=i,\\varphi),\\ \n",
    "\\varphi_k=p(y=k,\\varphi)=1-\\sum_{i=1}^{k-1}\\phi_i$$\n",
    "由于此时$T(y)\\in\\mathbb{R}^{k-1}$,是一个向量, 则将$T(y)$中第i个元素写作$(T(y))_i$\n",
    "$$\n",
    "T(1)=\\left(\\begin{array}\\\\ 1\\\\ 0\\\\ 0\\\\ \\vdots\\\\ 0  \\end{array}\\right),\n",
    "T(2)=\\left(\\begin{array}\\\\ 0\\\\ 1\\\\ 0\\\\ \\vdots\\\\ 0  \\end{array}\\right),\n",
    "T(3)=\\left(\\begin{array}\\\\ 0\\\\ 0\\\\ 1\\\\ \\vdots\\\\ 0  \\end{array}\\right),\n",
    "\\cdots,\n",
    "T(k-1)=\\left(\\begin{array}\\\\ 0\\\\ 0\\\\ 0\\\\ \\vdots\\\\ 1 \\end{array}\\right),\n",
    "T(k)=\\left(\\begin{array}\\\\ 0\\\\ 0\\\\ 0\\\\ \\vdots\\\\ 0  \\end{array}\\right)\n",
    "$$"
   ]
  },
  {
   "cell_type": "markdown",
   "metadata": {},
   "source": [
    "现在介绍一种非常有用的记号,   \n",
    "指示函数(**indicator function**), 1{·},   \n",
    "如果参数为真,则等于1; 反之则等于0.   \n",
    "(1{True} = 1, 1{False} = 0).   \n",
    "例如1{2 = 3} = 0, 而1{3 = 5 − 2} = 1   \n",
    "那么$(T(y))_i=1\\{ y=i\\},E[(T(y))_i]=P(y=i)=\\phi_i$"
   ]
  },
  {
   "cell_type": "markdown",
   "metadata": {
    "ExecuteTime": {
     "end_time": "2018-04-03T12:03:28.900222Z",
     "start_time": "2018-04-03T12:03:28.862196Z"
    }
   },
   "source": [
    "$$\n",
    "\\begin{eqnarray}\n",
    "p(y;\\phi) \n",
    "& = & \\phi_1^{1\\{y=1\\}} \\phi_2^{1\\{y=2\\}} \\cdots \\phi_k^{1\\{y=k\\}}\\\\\n",
    "& = & \\phi_1^{1\\{y=1\\}} \\phi_2^{1\\{y=2\\}} \\cdots \\phi_k^{1-\\sum_{i=1}^{k-1}\\{y=i\\}}\\\\\n",
    "& = & \\phi_1^{(T(y))_i} \\phi_2^{(T(y))_2} \\cdots \\phi_k^{1-\\sum_{i=1}^{k-1}(T(y))_i}\\\\\n",
    "& = & \\exp \\log\\left( \\phi_1^{(T(y))_1} \n",
    "\\phi_2^{(T(y))_2} \\cdots \n",
    "\\phi_{k-1}^{(T(y))_{k-1}} \n",
    "\\phi_k^{1-\\sum_{i=1}^{k-1}(T(y))_i} \\right)\\\\\n",
    "\\end{eqnarray}\n",
    "$$"
   ]
  },
  {
   "cell_type": "markdown",
   "metadata": {},
   "source": [
    "$$\n",
    "\\begin{eqnarray}\n",
    "\\ & = & \\exp \\bigg({\\big(T(y)\\big)_1}\\log\\phi_1 \n",
    "+{\\big(T(y)\\big)_2}\\log\\phi_2  +\\cdots \\\\\n",
    "&   & +{\\big(T(y)\\big)_{k-1}}\\log\\phi_{k-1}\n",
    "+{\\big({1-\\sum_{i=1}^{k-1}\\big(T\\big(y)\\big)_i}\\big)} \\log\\phi_k\\bigg)\\\\\n",
    "\\ & = & \\exp\\bigg( {\\big(T(y)\\big)_1}\\log(\\frac{\\phi_1 }{\\phi_k})\n",
    "+{\\big(T(y)\\big)_2}\\log(\\frac{\\phi_2 }{\\phi_k})  +\\cdots \\\\\n",
    "&   & +{\\big(T(y)\\big)_{k-1}}\\log(\\frac{\\phi_{k-1} }{\\phi_k})\n",
    "+\\log\\phi_k \\bigg)\n",
    "\\end{eqnarray}\n",
    "$$"
   ]
  },
  {
   "cell_type": "markdown",
   "metadata": {
    "ExecuteTime": {
     "end_time": "2018-04-03T05:34:35.785325Z",
     "start_time": "2018-04-03T05:34:35.769306Z"
    }
   },
   "source": [
    "对照指数分布族定义\n",
    "$$\n",
    "\\begin{eqnarray}\n",
    "p(y;\\eta) & = & b(y)\\exp(\\eta^T T(y) - a(\\eta))\\\\\n",
    "\\eta & = & \\left(\\begin{array}\\\\ \n",
    "\\log\\frac{\\phi_1 }{\\phi_k}\\\\ \n",
    "\\log\\frac{\\phi_2 }{\\phi_k}\\\\ \n",
    "\\log\\frac{\\phi_3 }{\\phi_k}\\\\ \n",
    "\\vdots\\\\ \n",
    "\\log\\frac{\\phi_{k-1} }{\\phi_k} \n",
    "\\end{array}\\right)\\\\\n",
    "b(y) & = & 1\\\\\n",
    "T(y) & = & y\\\\\n",
    "a(\\eta) & = & -\\log\\phi_k\\\\\n",
    "\\end{eqnarray}\n",
    "$$"
   ]
  },
  {
   "cell_type": "markdown",
   "metadata": {},
   "source": [
    "$$\n",
    "\\begin{eqnarray}\n",
    "\\eta_i & = & log\\frac{\\phi_i }{\\phi_k}\\\\\n",
    "\\phi_k e^{\\eta_i} & = & \\phi_i \\\\\n",
    "\\phi_k \\sum_{i=1}^{k}e^{\\eta_i} & = & \\sum_{i=1}^{k}\\phi_i = 1\\\\\n",
    "\\end{eqnarray}\n",
    "$$"
   ]
  },
  {
   "cell_type": "markdown",
   "metadata": {},
   "source": [
    "$$\n",
    "得到\\ \\phi_k  = \\frac{1}{\\sum_{i=1}^{k}e^{\\eta_i}}\\ \\ \n",
    "代入\\ \\phi_k e^{\\eta_i} = \\phi_i\\\\\n",
    "最终\\ \\Rightarrow \\phi_i = \\frac{e^{\\eta_i}}{\\sum_{i=1}^{k}e^{\\eta_i}}\n",
    "(Softmax)\n",
    "$$"
   ]
  },
  {
   "cell_type": "markdown",
   "metadata": {},
   "source": [
    "那么对于$\\eta_i$是一个$x$的线性函数,   \n",
    "则$\\eta_i=\\theta_i^T x\\ (i \\in{1,2,...,k-1})$   \n",
    "则$\\{ \\theta_1, \\theta_2,..., \\theta_{k-1}\\} \\in \\mathcal{R}^{n+1} $   \n",
    "同样的$\\theta_k=\\vec{0} \\to \\eta_k=\\theta_k^T x =\\vec{0}$\n",
    "$$\n",
    "\\begin{eqnarray}\n",
    "p(y=i|x;\\theta) & = &\\phi_i\\\\\n",
    " & = & \\frac{e^{\\eta_i}}{\\sum_{j=1}^{k}e^{\\eta_j}} \\\\\n",
    " & = & \\frac{e^{\\theta_i^T x}}{\\sum_{j=1}^{k}e^{\\theta_j^T x}}\\\\\n",
    "\\end{eqnarray}\n",
    "$$"
   ]
  },
  {
   "cell_type": "markdown",
   "metadata": {},
   "source": [
    "当$y \\in \\{ 1,...,k\\}$时,处理多分类问题时称为**softmax regression**   \n",
    "$$\n",
    "\\begin{eqnarray}\n",
    "h_\\theta(x) \n",
    "& = &E[T(y)|x;\\theta]\\\\\n",
    "& = & \\left(\\begin{array}\\\\ \n",
    "1\\{y=1\\}\\\\ \n",
    "2\\{y=2\\}\\\\\n",
    "3\\{y=3\\}\\\\ \n",
    "\\vdots\\\\ \n",
    "k\\{y=k\\}\\\\\n",
    "\\end{array}\\bigg|x;\\theta\\right)\\\\\\\\\n",
    "\\end{eqnarray}\n",
    "$$"
   ]
  },
  {
   "cell_type": "markdown",
   "metadata": {},
   "source": [
    "$$\n",
    "\\begin{eqnarray}\n",
    "& = & \\left(\\begin{array}\\\\ \n",
    "\\phi_1\\\\ \n",
    "\\phi_2\\\\ \n",
    "\\phi_3\\\\ \n",
    "\\vdots\\\\ \n",
    "\\phi_{k-1}\n",
    "\\end{array}\\right)\\\\\n",
    "& = & \\left(\\begin{array}\\\\ \n",
    "\\frac{e^{\\theta_1^T x}}{\\sum_{j=1}^{k}e^{\\theta_j^T x}}\\\\\n",
    "\\frac{e^{\\theta_2^T x}}{\\sum_{j=1}^{k}e^{\\theta_j^T x}}\\\\\n",
    "\\frac{e^{\\theta_3^T x}}{\\sum_{j=1}^{k}e^{\\theta_j^T x}}\\\\\n",
    "\\vdots\\\\ \n",
    "\\frac{e^{\\theta_{k-1}^T x}}{\\sum_{j=1}^{k}e^{\\theta_j^T x}}\\\\\n",
    "\\end{array}\\right)\\\\\n",
    "\\end{eqnarray}\n",
    "$$"
   ]
  },
  {
   "cell_type": "markdown",
   "metadata": {},
   "source": [
    "该问题的似然函数(**log likelihood**)   \n",
    "假设有m个样本的训练集合$\\{X^{(i),y^{(i)};i=1,2,...,m}\\}$   \n",
    "其对应的参数$\\theta_i$的log似然\n",
    "$$\n",
    "\\begin{eqnarray}\n",
    "\\ell(\\theta) \n",
    "& = & \\sum_{i=1}^{m} \\ log\\ p(y^{(i)}|x^{(i)};\\theta)\\\\\n",
    "& = & \\sum_{i=1}^{m} \\ log\\ \\prod_{l=1}^{k}\\left( \n",
    "\\frac{e^{\\theta_{l}^T x^{(i)}}}{\\sum_{j=1}^{k}e^{\\theta_j^T x^{(i)}}}\\right)^{1\\{y{(i)}=l\\}}\n",
    "\\end{eqnarray}\n",
    "$$"
   ]
  },
  {
   "cell_type": "markdown",
   "metadata": {
    "ExecuteTime": {
     "end_time": "2018-03-31T05:42:18.327595Z",
     "start_time": "2018-03-31T05:42:18.323591Z"
    }
   },
   "source": [
    "## 指数分布族_其它分布"
   ]
  },
  {
   "cell_type": "markdown",
   "metadata": {},
   "source": [
    "泊松分布(**Poisson**)   \n",
    "γ和指数分布(**the gamma and the exponential**)   \n",
    "β和狄利克雷分布(**the beta and the Dirichlet**)"
   ]
  },
  {
   "cell_type": "code",
   "execution_count": null,
   "metadata": {
    "collapsed": true
   },
   "outputs": [],
   "source": []
  }
 ],
 "metadata": {
  "anaconda-cloud": {},
  "kernelspec": {
   "display_name": "Python [default]",
   "language": "python",
   "name": "python3"
  },
  "language_info": {
   "codemirror_mode": {
    "name": "ipython",
    "version": 3
   },
   "file_extension": ".py",
   "mimetype": "text/x-python",
   "name": "python",
   "nbconvert_exporter": "python",
   "pygments_lexer": "ipython3",
   "version": "3.5.2"
  },
  "toc": {
   "nav_menu": {},
   "number_sections": true,
   "sideBar": true,
   "skip_h1_title": false,
   "title_cell": "线性回归_广义线性模型",
   "title_sidebar": "Contents",
   "toc_cell": true,
   "toc_position": {},
   "toc_section_display": true,
   "toc_window_display": false
  }
 },
 "nbformat": 4,
 "nbformat_minor": 2
}
