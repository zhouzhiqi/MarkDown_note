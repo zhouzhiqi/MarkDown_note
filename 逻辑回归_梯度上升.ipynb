{
 "cells": [
  {
   "cell_type": "markdown",
   "metadata": {
    "toc": true
   },
   "source": [
    "<h1>逻辑回归<span class=\"tocSkip\"></span></h1>\n",
    "<div class=\"toc\"><ul class=\"toc-item\"><li><span><a href=\"#逻辑回归\" data-toc-modified-id=\"逻辑回归-1\"><span class=\"toc-item-num\">1&nbsp;&nbsp;</span>逻辑回归</a></span></li><li><span><a href=\"#工具包\" data-toc-modified-id=\"工具包-2\"><span class=\"toc-item-num\">2&nbsp;&nbsp;</span>工具包</a></span></li><li><span><a href=\"#数据\" data-toc-modified-id=\"数据-3\"><span class=\"toc-item-num\">3&nbsp;&nbsp;</span>数据</a></span></li><li><span><a href=\"#函数\" data-toc-modified-id=\"函数-4\"><span class=\"toc-item-num\">4&nbsp;&nbsp;</span>函数</a></span></li><li><span><a href=\"#导数\" data-toc-modified-id=\"导数-5\"><span class=\"toc-item-num\">5&nbsp;&nbsp;</span>导数</a></span></li><li><span><a href=\"#似然\" data-toc-modified-id=\"似然-6\"><span class=\"toc-item-num\">6&nbsp;&nbsp;</span>似然</a></span></li><li><span><a href=\"#更新\" data-toc-modified-id=\"更新-7\"><span class=\"toc-item-num\">7&nbsp;&nbsp;</span>更新</a></span></li></ul></div>"
   ]
  },
  {
   "cell_type": "markdown",
   "metadata": {},
   "source": [
    "# 逻辑回归"
   ]
  },
  {
   "cell_type": "markdown",
   "metadata": {},
   "source": [
    "# 工具包"
   ]
  },
  {
   "cell_type": "markdown",
   "metadata": {
    "ExecuteTime": {
     "end_time": "2018-04-03T02:26:13.503928Z",
     "start_time": "2018-04-03T02:26:13.500924Z"
    }
   },
   "source": [
    "# 数据"
   ]
  },
  {
   "cell_type": "markdown",
   "metadata": {},
   "source": [
    "给定训练数据$D=\\{\\mathbf{x}_i , y_i\\}_{i=1}^{m}$(**training set**),    \n",
    "每组$(\\mathbf{x}_i , y_i)$(**training example**)都是一组训练样例,在此例中训练总数据个数m=9   \n",
    "$\\mathbf{x}_i$(**features**),是n维向量,在此例中n=3,即有3个特征   \n",
    "$y_i\\in \\mathbb{R}$(**target**),是监督学习中的目标变量,\n",
    "* $y_i$是连续变量时为回归(**regression**),\n",
    "* $y_i$是离散变量时为分类(**classification**)"
   ]
  },
  {
   "cell_type": "markdown",
   "metadata": {
    "ExecuteTime": {
     "end_time": "2018-04-03T02:26:31.046364Z",
     "start_time": "2018-04-03T02:26:31.042362Z"
    }
   },
   "source": [
    "# 函数"
   ]
  },
  {
   "cell_type": "markdown",
   "metadata": {
    "ExecuteTime": {
     "end_time": "2018-04-03T02:34:13.811191Z",
     "start_time": "2018-04-03T02:34:13.805677Z"
    }
   },
   "source": [
    "对于二分类问题, $y \\in \\{0,1\\}$,   \n",
    "0可以认为是消极类别(**negative class**),   \n",
    "1可以认为是积极类别(**negative class**)    \n",
    "此时,线性分类的性能就不太理想,于是引入逻辑回归   \n",
    "$$\n",
    "h_\\theta(x)=g(\\theta^Tx)=\\frac{1}{1+e^{-\\theta^Tx}}\\\\\n",
    "$$"
   ]
  },
  {
   "attachments": {
    "image.png": {
     "image/png": "[encoded data removed]"
    }
   },
   "cell_type": "markdown",
   "metadata": {},
   "source": [
    "其中:\n",
    "$$\n",
    "g(z)=\\frac{1}{1+e^{-z}}\n",
    "$$\n",
    "$g(z)$被称为逻辑函数(**logistic function**),   \n",
    "也叫双弯曲S型函数(**sigmoid function**)    \n",
    "其函数图像为   \n",
    "![image.png](attachment:image.png)"
   ]
  },
  {
   "cell_type": "markdown",
   "metadata": {},
   "source": [
    "从函数表达式以及图像可以看出,   \n",
    "$$\n",
    "当z \\to -\\infty 时,g(z) \\to 0\\\\\n",
    "当z \\to 0 时,\\ \\ g(z) \\to 0.5\\\\\n",
    "当z \\to +\\infty 时,g(z) \\to 1\\\\\n",
    "$$"
   ]
  },
  {
   "cell_type": "markdown",
   "metadata": {},
   "source": [
    "回归学习的目的是学习到一个从输入$\\mathcal{X}$到输出$\\mathcal{Y}$的映射$h$(**hypothesis**)   \n",
    "为了简写方便,定义预测值:$\\hat{y} = h(\\mathbf{x})$   \n",
    "$$\n",
    "h_\\theta(x)= \\theta^Tx =\\sum_{i=0}^n \\theta_i x_i \n",
    "$$\n",
    "其中$\\theta_i$(**weights/parameters**)称为权重项   \n",
    "$b=\\theta_0x_0,x_0=1$(**intercept term**)称为偏置项"
   ]
  },
  {
   "cell_type": "markdown",
   "metadata": {
    "ExecuteTime": {
     "end_time": "2018-04-03T02:27:19.382187Z",
     "start_time": "2018-04-03T02:27:19.378682Z"
    }
   },
   "source": [
    "# 导数"
   ]
  },
  {
   "cell_type": "markdown",
   "metadata": {},
   "source": [
    "对函数$g(z)$求导得   \n",
    "$$\n",
    "\\begin{eqnarray}\n",
    "g'(z) & = & \\frac{d}{dz} (\\frac{1}{1+e^{-z}})\\\\\n",
    "& = & \\frac{-1}{(1+e^{-z})^2} (-e^{-z}) = \\frac{e^{-z}}{(1+e^{-z})^2}\\\\\n",
    "& = & \\frac{1}{1+e^{-z}} \\cdot \\frac{e^{-z}+1-1}{1+e^{-z}}\\\\\n",
    "& = & \\frac{1}{1+e^{-z}} \\cdot \\big( 1-\\frac{1}{1+e^{-z}} \\big)\\\\\n",
    "& = & g(z)(1-g(z))\n",
    "\\end{eqnarray}\n",
    "$$"
   ]
  },
  {
   "cell_type": "markdown",
   "metadata": {
    "ExecuteTime": {
     "end_time": "2018-04-03T02:27:26.845775Z",
     "start_time": "2018-04-03T02:27:26.842773Z"
    }
   },
   "source": [
    "# 似然"
   ]
  },
  {
   "cell_type": "markdown",
   "metadata": {},
   "source": [
    "由于最小二乘回归可由极大似然估计推出   \n",
    "\n",
    "$$\n",
    "假设:\n",
    "\\begin{eqnarray}\n",
    "P(y=1|\\ x;\\theta) & = & h_\\theta(x)\\\\\n",
    "P(y=0|\\ x;\\theta) & = & 1 - h_\\theta(x)\\\\\n",
    "\\end{eqnarray}\\\\\n",
    "更简洁的写法:\n",
    "P(y|x;\\theta) = (h_\\theta(x))^y \\ (1 - h_\\theta(x))^{1-y}\\\\\n",
    "$$"
   ]
  },
  {
   "cell_type": "markdown",
   "metadata": {
    "ExecuteTime": {
     "end_time": "2018-04-03T03:18:29.027341Z",
     "start_time": "2018-04-03T03:18:29.021329Z"
    }
   },
   "source": [
    "则似然函数为:   \n",
    "$$\n",
    "\\begin{eqnarray}\n",
    "L(\\theta) & = & p(\\vec{y}\\ |\\ X;\\theta)\\\\\n",
    "& = & \\prod_{i=1}^{m} \\ p(y^{(i)}\\ |\\ x^{(i)};\\theta)\\\\\n",
    "& = & \\prod_{i=1}^{m} \\ (h_\\theta(x^{(i)}))^{y^{(i)}}\\ \n",
    "(1 - h_\\theta(x^{(i)}))^{1-y^{(i)}} \\\\\n",
    "\\end{eqnarray}\n",
    "$$"
   ]
  },
  {
   "cell_type": "markdown",
   "metadata": {},
   "source": [
    "取对数得\n",
    "$$\n",
    "\\begin{eqnarray}\n",
    "\\ell(\\theta) & = & log \\ L(\\theta)\\\\\n",
    "& = & \\sum_{i=1}^{m} \\ {y^{(i)}}log\\ h_\\theta(x^{(i)})\\ \n",
    "+{(1-y^{(i)})}log(1 - h_\\theta(x^{(i)})) \\\\\n",
    "\\end{eqnarray}\n",
    "$$"
   ]
  },
  {
   "cell_type": "markdown",
   "metadata": {
    "ExecuteTime": {
     "end_time": "2018-04-03T02:28:33.683962Z",
     "start_time": "2018-04-03T02:28:33.680960Z"
    }
   },
   "source": [
    "# 更新"
   ]
  },
  {
   "cell_type": "markdown",
   "metadata": {},
   "source": [
    "怎么让似然函数最大呢?\n",
    "这次使用梯度上升法(**radient ascent**)"
   ]
  },
  {
   "cell_type": "markdown",
   "metadata": {},
   "source": [
    "$$\n",
    "\\begin{eqnarray}\n",
    "\\theta \n",
    "& := & \n",
    "\\theta + \\alpha\\nabla_\\theta \\ell(\\theta)\\\\\n",
    "\\frac{\\partial}{\\partial \\theta_j}\\ell(\\theta) \n",
    "& = & \n",
    "\\left( y\\frac{1}{g(\\theta^Tx)}-(1-y)\\frac{1}{1-g(\\theta^Tx)}\n",
    "\\right) \\frac{\\partial}{\\partial \\theta_j}g(\\theta^Tx)\\\\\n",
    "& = & \n",
    "\\left( y\\frac{1}{g(\\theta^Tx)}-(1-y)\\frac{1}{1-g(\\theta^Tx)}\n",
    "\\right) \n",
    "\\left( g(\\theta^Tx)(1-g(\\theta^Tx)) \\right)\n",
    "\\frac{\\partial}{\\partial \\theta_j}\\theta^Tx \\\\\n",
    "& = & \n",
    "\\left( y( 1-g(\\theta^Tx))-(1-y)g(\\theta^Tx)\n",
    "\\right) x_j\\\\\n",
    "& = &\n",
    "(y-h_\\theta(x))x_j\\\\\n",
    "\\Rightarrow \\theta_j \n",
    "& := &\n",
    "\\theta_j + \\alpha(y^{(i)}-h_\\theta(x^{(i)}))x_j^{(i)}\n",
    "\\end{eqnarray}\n",
    "$$"
   ]
  },
  {
   "cell_type": "code",
   "execution_count": null,
   "metadata": {},
   "outputs": [],
   "source": []
  }
 ],
 "metadata": {
  "kernelspec": {
   "display_name": "Python 3",
   "language": "python",
   "name": "python3"
  },
  "language_info": {
   "codemirror_mode": {
    "name": "ipython",
    "version": 3
   },
   "file_extension": ".py",
   "mimetype": "text/x-python",
   "name": "python",
   "nbconvert_exporter": "python",
   "pygments_lexer": "ipython3",
   "version": "3.6.4"
  },
  "toc": {
   "nav_menu": {},
   "number_sections": true,
   "sideBar": true,
   "skip_h1_title": false,
   "title_cell": "逻辑回归",
   "title_sidebar": "Contents",
   "toc_cell": true,
   "toc_position": {},
   "toc_section_display": true,
   "toc_window_display": false
  }
 },
 "nbformat": 4,
 "nbformat_minor": 2
}
